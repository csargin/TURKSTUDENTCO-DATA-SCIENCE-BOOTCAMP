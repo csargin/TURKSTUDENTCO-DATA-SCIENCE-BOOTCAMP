{
  "nbformat": 4,
  "nbformat_minor": 0,
  "metadata": {
    "colab": {
      "provenance": [],
      "authorship_tag": "ABX9TyMLA9WfzxfL7lEhgnI+DD0M",
      "include_colab_link": true
    },
    "kernelspec": {
      "name": "python3",
      "display_name": "Python 3"
    },
    "language_info": {
      "name": "python"
    }
  },
  "cells": [
    {
      "cell_type": "markdown",
      "metadata": {
        "id": "view-in-github",
        "colab_type": "text"
      },
      "source": [
        "<a href=\"https://colab.research.google.com/github/csargin/TURKSTUDENTCO-DATA-SCIENCE-BOOTCAMP/blob/main/PseudoCodeSorular%C4%B1.ipynb\" target=\"_parent\"><img src=\"https://colab.research.google.com/assets/colab-badge.svg\" alt=\"Open In Colab\"/></a>"
      ]
    },
    {
      "cell_type": "code",
      "execution_count": null,
      "metadata": {
        "colab": {
          "base_uri": "https://localhost:8080/"
        },
        "id": "kE62vPJwDlTJ",
        "outputId": "44387632-1e18-4602-8da2-2669019a4850"
      },
      "outputs": [
        {
          "output_type": "stream",
          "name": "stdout",
          "text": [
            "İlk sayıyı girin: 1\n",
            "İkinci sayıyı girin: 2\n",
            "Sayıların toplamı: 3.0\n"
          ]
        }
      ],
      "source": [
        "# Soru 1\n",
        "# Kullanıcıdan 2 sayı alarak, bu sayıların toplamını hesaplayan program\n",
        "\n",
        "# Kullanıcıdan iki sayı alın\n",
        "sayi1 = float(input(\"İlk sayıyı girin: \"))\n",
        "sayi2 = float(input(\"İkinci sayıyı girin: \"))\n",
        "\n",
        "# Sayıların toplamını hesaplayın\n",
        "toplam = sayi1 + sayi2\n",
        "\n",
        "# Sonucu ekrana yazdırın\n",
        "print(\"Sayıların toplamı:\", toplam)\n"
      ]
    },
    {
      "cell_type": "code",
      "source": [
        "# Soru 2\n",
        "# prompt: 1'den 100'e kadar olan sayıları toplayan program\n",
        "\n",
        "# 1'den 100'e kadar olan sayıları toplayan program\n",
        "\n",
        "toplam = 0\n",
        "for i in range(1, 101):\n",
        "  toplam += i\n",
        "\n",
        "print(\"1'den 100'e kadar olan sayıların toplamı:\", toplam)\n"
      ],
      "metadata": {
        "colab": {
          "base_uri": "https://localhost:8080/"
        },
        "id": "vFo7LLyrEay-",
        "outputId": "c37dcebb-6048-44ea-f29b-ecb68da7c37e"
      },
      "execution_count": null,
      "outputs": [
        {
          "output_type": "stream",
          "name": "stdout",
          "text": [
            "1'den 100'e kadar olan sayıların toplamı: 5050\n"
          ]
        }
      ]
    },
    {
      "cell_type": "code",
      "source": [
        "# Soru 3\n",
        "# prompt: Kullanıcıdan alınan bir sayının asal olup olmadığını hesaplayan program\n",
        "\n",
        "# Eğer bir sayının kareköküne kadar olan tam sayılardan hiçbiriyle tam bölünemiyorsa,\n",
        "# bu durumda sayının asal bir sayı olduğunu söyleyebiliriz.\n",
        "# https://www.alinesin.org/popular_math/K_6_asal_sayilar.doc\n",
        "\n",
        "try:\n",
        "  # Kullanıcıdan bir sayı alın\n",
        "  sayi = int(input(\"Bir sayı girin: \"))\n",
        "\n",
        "  # Asal sayı kontrolü\n",
        "  if sayi > 1:\n",
        "    for i in range(2, int(sayi**0.5) + 1):\n",
        "      if (sayi % i) == 0:\n",
        "        print(sayi, \"asal bir sayı değildir.\")\n",
        "        break\n",
        "    else:\n",
        "      print(sayi, \"asal bir sayıdır.\")\n",
        "  else:\n",
        "    print(\"Lütfen 1'den büyük bir tam sayı giriniz.\")\n",
        "\n",
        "except ValueError:\n",
        "  print(\"Lütfen geçerli bir sayı giriniz.\")"
      ],
      "metadata": {
        "id": "qaY5LxAlE8R3",
        "colab": {
          "base_uri": "https://localhost:8080/",
          "height": 0
        },
        "outputId": "89a783b3-c021-4a86-8d3f-13162800ea2e"
      },
      "execution_count": 34,
      "outputs": [
        {
          "output_type": "stream",
          "name": "stdout",
          "text": [
            "Bir sayı girin: 997\n",
            "997 asal bir sayıdır.\n"
          ]
        }
      ]
    },
    {
      "cell_type": "code",
      "source": [
        "# Soru 4\n",
        "# prompt: Bir dizideki (array) elemanların tekrar edip etmediğini kontrol eden bir program\n",
        "\n",
        "def tekrar_eden_eleman_kontrol(dizi):\n",
        "  \"\"\"\n",
        "  Bir dizideki elemanların tekrar edip etmediğini kontrol eder.\n",
        "\n",
        "  Args:\n",
        "    dizi: Kontrol edilecek dizi.\n",
        "\n",
        "  Returns:\n",
        "    True: Dizi içinde tekrar eden eleman varsa.\n",
        "    False: Dizi içinde tekrar eden eleman yoksa.\n",
        "  \"\"\"\n",
        "  seen = set()\n",
        "  for eleman in dizi:\n",
        "    if eleman in seen:\n",
        "      return True\n",
        "    seen.add(eleman)\n",
        "  return False\n",
        "\n",
        "# Örnek kullanım\n",
        "dizi1 = [1, 2, 3, 4, 5]\n",
        "dizi2 = [1, 2, 3, 2, 5]\n",
        "\n",
        "if tekrar_eden_eleman_kontrol(dizi1):\n",
        "  print(\"Dizi 1 içinde tekrar eden eleman var.\")\n",
        "else:\n",
        "  print(\"Dizi 1 içinde tekrar eden eleman yok.\")\n",
        "\n",
        "if tekrar_eden_eleman_kontrol(dizi2):\n",
        "  print(\"Dizi 2 içinde tekrar eden eleman var.\")\n",
        "else:\n",
        "  print(\"Dizi 2 içinde tekrar eden eleman yok.\")\n"
      ],
      "metadata": {
        "colab": {
          "base_uri": "https://localhost:8080/"
        },
        "id": "dI8Nn848JAbV",
        "outputId": "5fc994dd-7bab-4392-f901-f6cbdb771c94"
      },
      "execution_count": null,
      "outputs": [
        {
          "output_type": "stream",
          "name": "stdout",
          "text": [
            "Dizi 1 içinde tekrar eden eleman yok.\n",
            "Dizi 2 içinde tekrar eden eleman var.\n"
          ]
        }
      ]
    }
  ]
}